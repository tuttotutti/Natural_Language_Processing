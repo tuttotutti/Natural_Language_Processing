{
  "nbformat": 4,
  "nbformat_minor": 0,
  "metadata": {
    "colab": {
      "provenance": []
    },
    "kernelspec": {
      "name": "python3",
      "display_name": "Python 3"
    },
    "language_info": {
      "name": "python"
    }
  },
  "cells": [
    {
      "cell_type": "markdown",
      "source": [
        "##**Spam classification**\n",
        "1. Sources:\n",
        "* spam.cvs (70% for train, 30% for test) (spam(bool), text)\n",
        "2. Flow:\n",
        "* **Train**:\n",
        "    + create 2 collections of either only spam or non-spam words\n",
        "    + create common_words by insersecting the above 2 sets\n",
        "    + create 2 dictionaries of each common_word with key=word, value=probability(frequency of that word/the total num of spam words, similar for non-spam)\n",
        "* **Predict:**\n",
        "    + create a collection containing only the words known in the training set\n",
        "    + use log to cal the total prob of spam and non-spam\n",
        "    + compare to see if this is a spam email or not\n"
      ],
      "metadata": {
        "id": "pY8QxujsvMu9"
      }
    }
  ]
}